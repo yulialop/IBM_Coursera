{
 "cells": [
  {
   "cell_type": "markdown",
   "metadata": {
    "collapsed": true
   },
   "source": [
    "# My Jupyter Notebook on IBM Watson Studio"
   ]
  },
  {
   "cell_type": "markdown",
   "metadata": {},
   "source": [
    "**Yulia**\n",
    "<br>Data Scientist"
   ]
  },
  {
   "cell_type": "markdown",
   "metadata": {},
   "source": [
    "*I've been working as Data Analyst for several years now, and I love working with data. I am interested in data science bacuse I would like to focus on prediction analysis and machine learning.*"
   ]
  },
  {
   "cell_type": "markdown",
   "metadata": {},
   "source": [
    "### The code in the below cell draws a scatter plot chart for the x and y values "
   ]
  },
  {
   "cell_type": "code",
   "execution_count": 2,
   "metadata": {},
   "outputs": [
    {
     "data": {
      "image/png": "[encoded data removed]",
      "text/plain": [
       "<Figure size 432x288 with 1 Axes>"
      ]
     },
     "metadata": {
      "needs_background": "light"
     },
     "output_type": "display_data"
    }
   ],
   "source": [
    "import matplotlib.pyplot as plt\n",
    "\n",
    "x = [5,6,8,7,12,11,2,6,4,1,2,8,5]\n",
    "y = [6,8,4,13,9,5,12,4,6,3,6,8,8]\n",
    "\n",
    "plt.scatter(x, y)\n",
    "plt.show()"
   ]
  },
  {
   "cell_type": "markdown",
   "metadata": {},
   "source": [
    ">The following text is based on the \"10 Reasons to Get the IBM Data Science Professional Certificate\" article by <del>Google</del> GISGeography published __[here](https://gisgeography.com/ibm-data-science-professional-certificate/)__.\n",
    "\n",
    "1. The demand for data scientists is on the rise\n",
    "2. Learn from IBM’s leading experts\n",
    "3. You’ll learn advanced programming skills\n",
    "4. You’ll build confidence in applying data to business\n",
    "5. You’ll build skills in machine learning\n",
    "6. The cost is affordable with a flexible schedule\n",
    "7. You’ll get better at data visualization\n",
    "<br>\n",
    "\n",
    "<img src=https://gisgeography.com/wp-content/uploads/2022/05/IBM-Data-Science-Professional-Certificate-Feature.png width=\"500\" align=\"left\">"
   ]
  }
 ],
 "metadata": {
  "kernelspec": {
   "display_name": "Python 3.9",
   "language": "python",
   "name": "python3"
  },
  "language_info": {
   "codemirror_mode": {
    "name": "ipython",
    "version": 3
   },
   "file_extension": ".py",
   "mimetype": "text/x-python",
   "name": "python",
   "nbconvert_exporter": "python",
   "pygments_lexer": "ipython3",
   "version": "3.9.12"
  }
 },
 "nbformat": 4,
 "nbformat_minor": 1
}
